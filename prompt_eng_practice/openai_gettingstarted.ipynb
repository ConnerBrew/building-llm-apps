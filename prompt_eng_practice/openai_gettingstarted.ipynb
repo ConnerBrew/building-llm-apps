{
 "cells": [
  {
   "cell_type": "code",
   "execution_count": 3,
   "metadata": {},
   "outputs": [],
   "source": [
    "import os\n",
    "from openai import OpenAI "
   ]
  },
  {
   "cell_type": "code",
   "execution_count": 4,
   "metadata": {},
   "outputs": [],
   "source": [
    "client = OpenAI(\n",
    "   api_key=os.environ[\"OPENAI_KEY\"],\n",
    " )"
   ]
  },
  {
   "cell_type": "code",
   "execution_count": 7,
   "metadata": {},
   "outputs": [
    {
     "name": "stdout",
     "output_type": "stream",
     "text": [
      "ChatCompletionMessage(content=\"In the kingdom of code, a tale we must tell,\\nOf a loop that spirals through a program so well.\\nRecursion its name, a method divine,\\nA concept in programming that truly does shine.\\n\\nLike a mirror reflecting its own reflection,\\nRecursion calls upon itself with affection.\\nA function, it runs, then calls itself once more,\\nUntil a base case ends the dance on the floor.\\n\\nLike Russian dolls nested within one another,\\nRecursion unfolds, revealing its colors.\\nEach call creates a chain, a path to explore,\\nUnwinding the problem, revealing its core.\\n\\nBut caution, dear coder, for endless loops lurk,\\nRecursive functions must know when to shirk.\\nA base case is key, to break the chain's bind,\\nAnd prevent a runtime error, of the dreaded kind.\\n\\nSo embrace recursion, let its beauty unfold,\\nInfinite possibilities, a story retold.\\nIn the realm of programming, a powerful tool,\\nRecursion reigns supreme, breaking complexity's rule.\", role='assistant', function_call=None, tool_calls=None)\n"
     ]
    }
   ],
   "source": [
    "#first test message\n",
    "completion = client.chat.completions.create(\n",
    "  model=\"gpt-3.5-turbo\",\n",
    "  messages=[\n",
    "    {\"role\": \"system\", \"content\": \"You are a poetic assistant, skilled in explaining complex programming concepts with creative flair.\"},\n",
    "    {\"role\": \"user\", \"content\": \"Compose a poem that explains the concept of recursion in programming.\"}\n",
    "  ]\n",
    ")\n",
    "\n",
    "print(completion.choices[0].message)"
   ]
  },
  {
   "cell_type": "code",
   "execution_count": null,
   "metadata": {},
   "outputs": [],
   "source": []
  }
 ],
 "metadata": {
  "kernelspec": {
   "display_name": ".venv",
   "language": "python",
   "name": "python3"
  },
  "language_info": {
   "codemirror_mode": {
    "name": "ipython",
    "version": 3
   },
   "file_extension": ".py",
   "mimetype": "text/x-python",
   "name": "python",
   "nbconvert_exporter": "python",
   "pygments_lexer": "ipython3",
   "version": "3.9.6"
  }
 },
 "nbformat": 4,
 "nbformat_minor": 2
}
